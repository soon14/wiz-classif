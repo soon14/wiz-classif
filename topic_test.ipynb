{
 "metadata": {
  "language_info": {
   "codemirror_mode": {
    "name": "ipython",
    "version": 3
   },
   "file_extension": ".py",
   "mimetype": "text/x-python",
   "name": "python",
   "nbconvert_exporter": "python",
   "pygments_lexer": "ipython3",
   "version": "3.8.5-final"
  },
  "orig_nbformat": 2,
  "kernelspec": {
   "name": "Python 3.8.5 64-bit",
   "display_name": "Python 3.8.5 64-bit",
   "metadata": {
    "interpreter": {
     "hash": "767d51c1340bd893661ea55ea3124f6de3c7a262a8b4abca0554b478b1e2ff90"
    }
   }
  }
 },
 "nbformat": 4,
 "nbformat_minor": 2,
 "cells": [
  {
   "cell_type": "code",
   "execution_count": null,
   "metadata": {},
   "outputs": [],
   "source": [
    "import gensim\n",
    "import os\n",
    "\n",
    "import utils\n",
    "\n",
    "stop_words = utils.load_stopwords()\n",
    "\n",
    "raw_documents = utils.read_docs()\n",
    "\n",
    "corpora_documents = []\n",
    "for item_text in raw_documents:\n",
    "    item_str = utils.cut_and_remove_stopwords(item_text, stop_words)\n",
    "    corpora_documents.append(item_str)\n",
    "\n",
    "\n",
    "dictionary = gensim.corpora.Dictionary(corpora_documents)\n",
    "corpus = [dictionary.doc2bow(text) for text in corpora_documents]\n"
   ]
  },
  {
   "cell_type": "code",
   "execution_count": null,
   "metadata": {},
   "outputs": [],
   "source": [
    "model = gensim.models.LdaModel(corpus=corpus,\n",
    "                               id2word=dictionary,\n",
    "                               num_topics=10,\n",
    "                               passes=5,\n",
    "                               minimum_probability=0)\n"
   ]
  },
  {
   "cell_type": "code",
   "execution_count": null,
   "metadata": {},
   "outputs": [],
   "source": [
    "for top in model.print_topics():\n",
    "  print(top)"
   ]
  },
  {
   "cell_type": "code",
   "execution_count": null,
   "metadata": {},
   "outputs": [],
   "source": [
    "lda_corpus = [max(prob,key=lambda y:y[1]) for prob in model[corpus] ]\n",
    "playlists = [[] for i in range(10)]\n",
    "for i, x in enumerate(lda_corpus):\n",
    "    playlists[x[0]].append(corpora_documents[i])"
   ]
  },
  {
   "cell_type": "code",
   "execution_count": null,
   "metadata": {},
   "outputs": [],
   "source": [
    "playlists = [p for p in playlists if len(p) > 1]"
   ]
  }
 ]
}