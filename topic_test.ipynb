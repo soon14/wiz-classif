{
 "metadata": {
  "language_info": {
   "codemirror_mode": {
    "name": "ipython",
    "version": 3
   },
   "file_extension": ".py",
   "mimetype": "text/x-python",
   "name": "python",
   "nbconvert_exporter": "python",
   "pygments_lexer": "ipython3",
   "version": "3.8.5-final"
  },
  "orig_nbformat": 2,
  "kernelspec": {
   "name": "Python 3.8.5 64-bit",
   "display_name": "Python 3.8.5 64-bit",
   "metadata": {
    "interpreter": {
     "hash": "767d51c1340bd893661ea55ea3124f6de3c7a262a8b4abca0554b478b1e2ff90"
    }
   }
  }
 },
 "nbformat": 4,
 "nbformat_minor": 2,
 "cells": [
  {
   "cell_type": "code",
   "execution_count": 1,
   "metadata": {},
   "outputs": [
    {
     "output_type": "stream",
     "name": "stderr",
     "text": [
      "Building prefix dict from the default dictionary ...\n",
      "Loading model from cache /tmp/jieba.cache\n",
      "Loading model cost 1.863 seconds.\n",
      "Prefix dict has been built successfully.\n"
     ]
    }
   ],
   "source": [
    "import gensim\n",
    "import os\n",
    "\n",
    "import utils\n",
    "\n",
    "stop_words = utils.load_stopwords()\n",
    "\n",
    "raw_documents = utils.read_docs()\n",
    "\n",
    "corpora_documents = []\n",
    "for item_text in raw_documents:\n",
    "    item_str = utils.cut_and_remove_stopwords(item_text, stop_words)\n",
    "    corpora_documents.append(item_str)\n",
    "\n",
    "\n",
    "dictionary = gensim.corpora.Dictionary(corpora_documents)\n",
    "corpus = [dictionary.doc2bow(text) for text in corpora_documents]\n"
   ]
  },
  {
   "cell_type": "code",
   "execution_count": 2,
   "metadata": {},
   "outputs": [],
   "source": [
    "model = gensim.models.LdaModel(corpus=corpus,\n",
    "                               id2word=dictionary,\n",
    "                               num_topics=10,\n",
    "                               passes=5,\n",
    "                               minimum_probability=0)\n"
   ]
  },
  {
   "cell_type": "code",
   "execution_count": 3,
   "metadata": {},
   "outputs": [
    {
     "output_type": "stream",
     "name": "stdout",
     "text": [
      "(0, '0.022*\"文本\" + 0.022*\"距离\" + 0.015*\"度\" + 0.013*\"计算\" + 0.011*\"中\" + 0.010*\"向量\" + 0.008*\"一个\" + 0.008*\"余弦\" + 0.008*\"=\" + 0.008*\"词\"')\n(1, '0.036*\"a\" + 0.027*\"’\" + 0.021*\"branch\" + 0.017*\"s\" + 0.016*\"`\" + 0.010*\"feature\" + 0.009*\"git\" + 0.009*\"t\" + 0.008*\"This\" + 0.008*\"notion\"')\n(2, '0.005*\"a\" + 0.003*\"s\" + 0.002*\"branch\" + 0.002*\"’\" + 0.001*\"This\" + 0.001*\"secure\" + 0.001*\"feature\" + 0.001*\"退款\" + 0.001*\"work\" + 0.001*\"untitled\"')\n(3, '0.014*\"人机\" + 0.014*\"无人\" + 0.014*\"无人机\" + 0.010*\"飞\" + 0.010*\"植保\" + 0.007*\"极\" + 0.007*\"博\" + 0.006*\"作业\" + 0.006*\"大\" + 0.005*\"疆\"')\n(4, '0.034*\"天气\" + 0.030*\"保险\" + 0.022*\"指数\" + 0.011*\"风险\" + 0.011*\"气象\" + 0.010*\"市场\" + 0.009*\"产品\" + 0.009*\"年\" + 0.008*\"公司\" + 0.007*\"衍生\"')\n(5, '0.003*\"a\" + 0.002*\"退款\" + 0.002*\"中\" + 0.002*\"交易\" + 0.002*\"支付\" + 0.002*\"天气\" + 0.002*\"商户\" + 0.002*\"结算\" + 0.001*\"资金\" + 0.001*\"飞\"')\n(6, '0.063*\"退款\" + 0.028*\"a\" + 0.015*\"资金\" + 0.015*\"银行\" + 0.014*\"单\" + 0.013*\"中\" + 0.012*\"链路\" + 0.011*\"接口\" + 0.011*\"平台\" + 0.011*\"渠道\"')\n(7, '0.004*\"a\" + 0.002*\"天气\" + 0.002*\"结算\" + 0.002*\"商户\" + 0.001*\"交易\" + 0.001*\"中\" + 0.001*\"指数\" + 0.001*\"资金\" + 0.001*\"保险\" + 0.001*\"branch\"')\n(8, '0.019*\"无人\" + 0.018*\"极\" + 0.018*\"无人机\" + 0.018*\"人机\" + 0.017*\"飞\" + 0.017*\"「\" + 0.017*\"」\" + 0.012*\"农业\" + 0.010*\"植保\" + 0.008*\"服务\"')\n(9, '0.027*\"支付\" + 0.024*\"a\" + 0.023*\"商户\" + 0.021*\"结算\" + 0.018*\"资金\" + 0.017*\"交易\" + 0.015*\"账户\" + 0.011*\"中\" + 0.011*\"银行\" + 0.010*\"用户\"')\n"
     ]
    }
   ],
   "source": [
    "for top in model.print_topics():\n",
    "  print(top)"
   ]
  },
  {
   "cell_type": "code",
   "execution_count": 5,
   "metadata": {},
   "outputs": [],
   "source": [
    "lda_corpus = [max(prob,key=lambda y:y[1]) for prob in model[corpus] ]\n",
    "playlists = [[] for i in range(10)]\n",
    "for i, x in enumerate(lda_corpus):\n",
    "    playlists[x[0]].append(corpora_documents[i])"
   ]
  },
  {
   "cell_type": "code",
   "execution_count": 6,
   "metadata": {},
   "outputs": [],
   "source": [
    "playlists = [p for p in playlists if len(p) > 1]"
   ]
  },
  {
   "cell_type": "code",
   "execution_count": null,
   "metadata": {},
   "outputs": [],
   "source": []
  }
 ]
}